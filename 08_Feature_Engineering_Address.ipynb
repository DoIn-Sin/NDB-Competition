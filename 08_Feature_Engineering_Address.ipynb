{
 "cells": [
  {
   "cell_type": "markdown",
   "metadata": {},
   "source": [
    "# 1. 피처 엔지니어링 2: 주소 수집하기"
   ]
  },
  {
   "cell_type": "markdown",
   "metadata": {},
   "source": [
    "지역마다 호황기인 산업이 있고, 침체기인 산업이 존재한다. 따라서 우리는 주소를 수집하여 지역별 산업 현황을 살펴보고,\n",
    "\n",
    "지역에 따른 산업군 분포를 파악하여 새로운 파생변수를 만들기 위해 주소 데이터를 수집한다.\n",
    "\n",
    "기업의 정보를 검색할 수 있는 나이스 비즈인포에서 selenium을 통해 크롤링하여 주소 데이터를 수집하고자 한다."
   ]
  },
  {
   "cell_type": "markdown",
   "metadata": {},
   "source": [
    "### 병렬 처리를 적용한 크롤링 코드"
   ]
  },
  {
   "cell_type": "markdown",
   "metadata": {},
   "source": [
    "- 주소를 수집해야할 데이터의 개수가 약 3만개로, 일반적인 크롤링을 시도하면 약 7일이 소요된다.\n",
    "- 7일 동안 크롤링을 하기에는 무리가 있기 때문에 병렬 처리를 시도했다.\n",
    "    - 7일 -> 11시간으로 크롤링 시간을 대폭 단축할 수 있었다.\n",
    "- 현재 사용하는 CPU의 프로세서 개수는 12개 이므로, 데이터를 12개의 구간으로 나누어서 진행하였다.\n",
    "- 산업코드 크롤링을 할 때와 동일하게 사업자등록번호, 기업명으로 검색해도 나오지 않는 지점인 기업들은 수작업으로 찾아서 데이터를 수집했다."
   ]
  },
  {
   "cell_type": "markdown",
   "metadata": {},
   "source": [
    "```python\n",
    "# 필요한 라이브러리 불러오기\n",
    "import json\n",
    "import pandas as pd\n",
    "\n",
    "import multiprocessing\n",
    "from multiprocessing import Pool\n",
    "\n",
    "from selenium import webdriver              \n",
    "from selenium.webdriver import ActionChains  \n",
    "from selenium.webdriver.common.by import By  \n",
    "from selenium.common.exceptions import NoSuchElementException, UnexpectedAlertPresentException\n",
    "\n",
    "def get_data(data):\n",
    "    \"\"\"\n",
    "    나이스 비즈인포에서 사업자등록번호 or 기업명을 검색하여 주소를 수집하는 함수입니다.\n",
    "    -------------------------------------------\n",
    "    input = data(접속할 url, 검색할 데이터(list))\n",
    "    -------------------------------------------\n",
    "    \"\"\"\n",
    "    result_dict = [{'사업자등록번호':[], '기업명':[], '주소':[]}, {'사업자등록번호':[], '기업명':[]}] # 크롤링한 결과를 저장할 변수 선언\n",
    "    # 예외처리를 위해 try ~ except문 사용\n",
    "    try:\n",
    "        # selenium으로 크롤링하기 위해 크롬 드라이버 불러오기\n",
    "        dr = webdriver.Chrome()\n",
    "        options = webdriver.ChromeOptions()\n",
    "        options.add_argument('--headless')\n",
    "        dr.set_window_size(1000, 1000)                   \n",
    "        dr.get(url=data[0]) \n",
    "        time.sleep(2)\n",
    "        \n",
    "        # 사업자등록번호, 기업명으로 검색해서 크롤링하기\n",
    "        for cor_number, cor_name in zip(data[1], data[2]):\n",
    "            # 01. 검색창에 사업자등록번호를 입력하고 검색버튼 누르기 (sleep=5)\n",
    "            search_box_biz_info = dr.find_element(By.XPATH, \"/html/body/div[2]/div/ul/li[1]/div/form/input\")     # 비즈인포 검색창\n",
    "            search_button_biz_info = dr.find_element(By.XPATH, '/html/body/div[2]/div/ul/li[1]/div/form/button') # 비즈인포 검색 버튼\n",
    "            time.sleep(2)\n",
    "\n",
    "            act = ActionChains(dr)\n",
    "            act.send_keys_to_element(search_box_biz_info, cor_name).click(search_button_biz_info).perform() # 사업자등록번호 입력, 버튼 클릭 수행\n",
    "            time.sleep(5)\n",
    "\n",
    "            # 예외처리를 위해 try ~ except문 사용\n",
    "            try:\n",
    "                # 02. 검색해서 나온 결과에서 주소 가져오기 (sleep=3)\n",
    "                click_result = dr.find_element(By.XPATH, '/html/body/div[3]/div/div[2]/table/tbody/tr[2]/td/div/ul/li[1]')\n",
    "                time.sleep(2)\n",
    "\n",
    "                result_dict[0][\"사업자등록번호\"].append(cor_number)\n",
    "                result_dict[0][\"기업명\"].append(cor_name) \n",
    "                result_dict[0][\"주소\"].append(click_result.text)\n",
    "                \n",
    "            except NoSuchElementException as e:\n",
    "                result_dict[1][\"사업자등록번호\"].append(cor_number)\n",
    "                result_dict[1][\"기업명\"].append(cor_name)\n",
    "                print(f'{cor_number} {cor_name}의 정보가 없습니다.')\n",
    "            \n",
    "            except UnexpectedAlertPresentException as e:\n",
    "                result_dict[1][\"사업자등록번호\"].append(cor_number)\n",
    "                result_dict[1][\"기업명\"].append(cor_name)\n",
    "                print(f'{cor_number} {cor_name}의 정보가 없습니다.')\n",
    "\n",
    "            # 중간저장\n",
    "            filename = f'file_{data[1][0]}.json'\n",
    "            with open(f'./custom_data/address_json_name_non2/{filename}','w') as f:\n",
    "                json.dump(result_dict, f, ensure_ascii=False, indent=4)\n",
    "\n",
    "    except Exception as e:\n",
    "        print(e)\n",
    "\n",
    "    finally:\n",
    "        dr.close()\n",
    "        dr.quit()\n",
    "        \n",
    "if __name__ == '__main__':\n",
    "    df = pd.read_csv('./crawling_data.csv', encoding='cp949')\n",
    "    df.drop_duplicates(subset='사업자등록번호', inplace=True)  # 결산으로 인한 중복 데이터가 존재하므로 사업자등록번호를 기준으로 중복제거\n",
    "    num_list = []\n",
    "    name_list = []\n",
    "    numbers = df['사업자등록번호'].values.tolist()\n",
    "    names = df['기업명'].values.tolist()\n",
    "    start = 0\n",
    "    end = 2975\n",
    "    # 데이터를 12개의 구간으로 나누기\n",
    "    for i in range(0, 12):\n",
    "        if i != 11:\n",
    "            num_list.append(numbers[start:end])\n",
    "            name_list.append(names[start:end])\n",
    "            start = end\n",
    "            end += 2975\n",
    "        else:\n",
    "            num_list.append(numbers[start:])\n",
    "            name_list.append(names[start:])\n",
    "\n",
    "    # 병렬 처리를 위한 CPU 나누기 및 데이터 만들기\n",
    "    cpu_count = multiprocessing.cpu_count()\n",
    "    url = 'https://www.nicebizinfo.com/cm/CM0100M001GE.nice'\n",
    "    urls_list = [url] * cpu_count\n",
    "    total = []\n",
    "    for i, j, k in zip(urls_list, num_list, name_list):\n",
    "        total.append([i, j, k])\n",
    "    p = Pool(processes=cpu_count)\n",
    "    p.map(get_data, total)\n",
    "    \n",
    "```"
   ]
  },
  {
   "cell_type": "markdown",
   "metadata": {},
   "source": [
    "# 2. 수집한 주소 합치기"
   ]
  },
  {
   "cell_type": "code",
   "execution_count": 1,
   "metadata": {},
   "outputs": [],
   "source": [
    "import json\n",
    "import os\n",
    "\n",
    "# 사업자등록번호로 검색한 결과물\n",
    "\n",
    "path = \"./custom_data/address_json/\"\n",
    "file_list = os.listdir(path)\n",
    "\n",
    "data = []\n",
    "for filename in file_list:\n",
    "    with open(path+filename) as file_1:\n",
    "\t    data.append(json.load(file_1))\n",
    "\n",
    "finish = data[0][0]\n",
    "for i in range(1, len(data)):\n",
    "    finish['사업자등록번호'].extend(data[i][0]['사업자등록번호'])\n",
    "    finish['주소'].extend(data[i][0]['주소'])\n",
    "\n",
    "retry = data[0][1]\n",
    "for i in range(1, len(data)):\n",
    "    retry['사업자등록번호'].extend(data[i][1]['사업자등록번호'])\n",
    "    retry['기업명'].extend(data[i][0]['기업명'])"
   ]
  },
  {
   "cell_type": "code",
   "execution_count": 2,
   "metadata": {},
   "outputs": [],
   "source": [
    "# 중간에 세션이 끊어져 누락된 데이터들 재검색(약 1000개)\n",
    "\n",
    "path = \"./custom_data/address_json_no/\"\n",
    "file_list = os.listdir(path)\n",
    "\n",
    "data2 = []\n",
    "for filename in file_list:\n",
    "    with open(f'./custom_data/address_json_no/{filename}') as file_1:\n",
    "\t    data2.append(json.load(file_1))\n",
    "\n",
    "for i in range(0, len(data2)):\n",
    "    finish['사업자등록번호'].extend(data2[i][0]['사업자등록번호'])\n",
    "    finish['주소'].extend(data2[i][0]['주소'])\n",
    "\n",
    "for i in range(0, len(data2)):\n",
    "    retry['사업자등록번호'].extend(data2[i][1]['사업자등록번호'])\n",
    "    retry['기업명'].extend(data2[i][0]['기업명'])"
   ]
  },
  {
   "cell_type": "code",
   "execution_count": 3,
   "metadata": {},
   "outputs": [],
   "source": [
    "# 사업자등록번호로 나오지 않아서 기업명으로 검색한 결과물\n",
    "\n",
    "path = \"./custom_data/address_json_name/\"\n",
    "file_list = os.listdir(path)\n",
    "\n",
    "data3 = []\n",
    "for filename in file_list:\n",
    "    with open(f'./custom_data/address_json_name/{filename}') as file_1:\n",
    "\t    data3.append(json.load(file_1))\n",
    "        \n",
    "for i in range(0, len(data3)):\n",
    "    finish['사업자등록번호'].extend(data3[i][0]['사업자등록번호'])\n",
    "    finish['주소'].extend(data3[i][0]['주소'])\n",
    "\n",
    "retry2 = data3[0][1]\n",
    "for i in range(1, len(data3)):\n",
    "    retry2['사업자등록번호'].extend(data3[i][1]['사업자등록번호'])\n",
    "    retry2['기업명'].extend(data3[i][0]['기업명'])"
   ]
  },
  {
   "cell_type": "code",
   "execution_count": 4,
   "metadata": {},
   "outputs": [],
   "source": [
    "# 중간에 세션이 끊어져 누락된 데이터들 재검색(약 100개)\n",
    "\n",
    "path = \"./custom_data/address_json_name_non/\"\n",
    "file_list = os.listdir(path)\n",
    "\n",
    "data3 = []\n",
    "for filename in file_list:\n",
    "    with open(f'./custom_data/address_json_name_non/{filename}') as file_1:\n",
    "\t    data3.append(json.load(file_1))\n",
    "        \n",
    "for i in range(0, len(data3)):\n",
    "    finish['사업자등록번호'].extend(data3[i][0]['사업자등록번호'])\n",
    "    finish['주소'].extend(data3[i][0]['주소'])\n",
    "\n",
    "retry2 = data3[0][1]\n",
    "for i in range(1, len(data3)):\n",
    "    retry2['사업자등록번호'].extend(data3[i][1]['사업자등록번호'])\n",
    "    retry2['기업명'].extend(data3[i][0]['기업명'])"
   ]
  },
  {
   "cell_type": "markdown",
   "metadata": {},
   "source": [
    "## 2-1. 수작업으로 수집한 주소 데이터 형식 바꾸기"
   ]
  },
  {
   "cell_type": "code",
   "execution_count": 26,
   "metadata": {},
   "outputs": [],
   "source": [
    "# 딕셔너리 형태인데, key가 기업명이므로, 사업자등록번호로 key를 바꿔준다.\n",
    "\n",
    "# 바꿔질 데이터\n",
    "with open(f'./custom_data/search_address.json', encoding='utf-8') as file_1:\n",
    "\tsearch_address = json.load(file_1)\n",
    "\n",
    "# key값을 바꾸기 위해 사용될 데이터\n",
    "with open(f'./custom_data/search_address.json', encoding='utf-8') as file_1:\n",
    "\trevise_address = json.load(file_1)"
   ]
  },
  {
   "cell_type": "code",
   "execution_count": 34,
   "metadata": {},
   "outputs": [],
   "source": [
    "import pandas as pd\n",
    "\n",
    "df = pd.read_csv('./custom_data/basic_finance_data.csv', encoding='cp949')\n",
    "df.drop_duplicates(subset='사업자등록번호', inplace=True)"
   ]
  },
  {
   "cell_type": "code",
   "execution_count": 35,
   "metadata": {},
   "outputs": [],
   "source": [
    "# 사업자번호추출하기\n",
    "for search_result in search_address:\n",
    "    cor_numbers = df.loc[df['기업명']==search_result, '사업자등록번호'].values[0]\n",
    "    revise_address[search_result] = cor_numbers"
   ]
  },
  {
   "cell_type": "code",
   "execution_count": 36,
   "metadata": {},
   "outputs": [],
   "source": [
    "# 추출한 사업자등록번호로 key 값 바꾸기\n",
    "fianl_address = dict((revise_address[key], value) for (key, value) in search_address.items())"
   ]
  },
  {
   "cell_type": "markdown",
   "metadata": {},
   "source": [
    "# 3. 원본 데이터에 주소 데이터 합치기"
   ]
  },
  {
   "cell_type": "code",
   "execution_count": 38,
   "metadata": {},
   "outputs": [],
   "source": [
    "# 중복이 제거되지 않은 데이터로 다시 불러오기\n",
    "df = pd.read_csv('./custom_data/basic_finance_data.csv', encoding='cp949')"
   ]
  },
  {
   "cell_type": "code",
   "execution_count": 39,
   "metadata": {},
   "outputs": [],
   "source": [
    "# 크롤링으로 수집한 데이터들 합치기\n",
    "for cor_number, cor_address in zip(finish['사업자등록번호'], finish['주소']):\n",
    "    df.loc[df['사업자등록번호']==cor_number, \"주소\"] = cor_address"
   ]
  },
  {
   "cell_type": "code",
   "execution_count": 40,
   "metadata": {},
   "outputs": [],
   "source": [
    "# 수작업으로 수집한 데이터들 합치기\n",
    "for cor_number in fianl_address:\n",
    "    df.loc[df['사업자등록번호']==cor_number, \"주소\"] = fianl_address[cor_number]"
   ]
  },
  {
   "cell_type": "markdown",
   "metadata": {},
   "source": [
    "# 4. 내보내기"
   ]
  },
  {
   "cell_type": "code",
   "execution_count": 41,
   "metadata": {},
   "outputs": [],
   "source": [
    "df.to_csv('./custom_data/feature_engineering_address.csv', encoding='utf-8', index=False)"
   ]
  }
 ],
 "metadata": {
  "kernelspec": {
   "display_name": "Python 3.8.13 ('cabta')",
   "language": "python",
   "name": "python3"
  },
  "language_info": {
   "codemirror_mode": {
    "name": "ipython",
    "version": 3
   },
   "file_extension": ".py",
   "mimetype": "text/x-python",
   "name": "python",
   "nbconvert_exporter": "python",
   "pygments_lexer": "ipython3",
   "version": "3.8.13"
  },
  "orig_nbformat": 4,
  "vscode": {
   "interpreter": {
    "hash": "a063b7be1b1d22be0fca1b26cf478769b2ebdd8896aff1eef11b858cbacfa39b"
   }
  }
 },
 "nbformat": 4,
 "nbformat_minor": 2
}
