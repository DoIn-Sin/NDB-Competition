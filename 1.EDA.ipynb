{
 "cells": [
  {
   "cell_type": "markdown",
   "metadata": {},
   "source": [
    "# 1. 데이터 불러오기"
   ]
  },
  {
   "cell_type": "code",
   "execution_count": 7,
   "metadata": {},
   "outputs": [],
   "source": [
    "import pandas as pd\n",
    "\n",
    "data_finance = pd.read_csv('./data/재무데이터.csv')\n",
    "data_active = pd.read_csv('./data/액티브 중소법인 재무보유.csv')\n",
    "data_stop = pd.read_csv('./data/휴폐업 중소법인 재무보유.csv')"
   ]
  },
  {
   "cell_type": "code",
   "execution_count": 8,
   "metadata": {},
   "outputs": [
    {
     "data": {
      "text/plain": [
       "Index(['Unnamed: 0', '사업자번호', '결산년월', '유동자산', '매출채권', '비유동자산', '유형자산', '자산총계',\n",
       "       '유동부채', '비유동부채', '부  채  총  계', '자본금', '이익잉여금(결손금）', '자본총계', '매출액',\n",
       "       '판매비와관리비', '영업이익（손실）', '법인세비용차감전순손익', '법인세비용', '당기순이익(손실)', '기업순이익률(%)',\n",
       "       '유보액/총자산(%)', '유보액/납입자본(%)', '매출액총이익률(%)', '매출액영업이익률(%)', '매출액순이익률(%)',\n",
       "       '수지비율(%)', '경상수지비율', '영업비율(%)', '금융비용대매출액비율(%', '금융비용대부채비율(%)',\n",
       "       '금융비용대총비용비율(%', '부채비율(%)', '차입금의존도(%)', '자기자본비율(%)', '순운전자본비율(%)',\n",
       "       '유동부채비율(%)', '비유동부채비율(%)', '부채총계대 매출액(%)', '총자본회전율(회)', '재고자산회전율(회)',\n",
       "       '매출채권회전율(회)', '매입채무회전율(회)', '미수금', '매출원가', '무형자산', '재고자산'],\n",
       "      dtype='object')"
      ]
     },
     "execution_count": 8,
     "metadata": {},
     "output_type": "execute_result"
    }
   ],
   "source": [
    "data_finance.columns"
   ]
  },
  {
   "cell_type": "code",
   "execution_count": 9,
   "metadata": {},
   "outputs": [
    {
     "data": {
      "text/plain": [
       "Index(['Unnamed: 0', '사업자등록번호', '기업접두명', '기업명', '기업접미명', '기업영문명', '업종', '기업규모',\n",
       "       '공기업구분', '개인법인구분', '본점지점구분', '국외투자법인여부', '벤처기업여부', '상장코드', '산업코드차수',\n",
       "       '산업코드1', '산업코드2', 'IND_CD3', '공공기관유형', '중견기업보호여부', '본점기업코드', '설립일자',\n",
       "       '설립구분', '상장일자', '주요사업내용', '국가명', '홈페이지URL', '대표자명', '직원수'],\n",
       "      dtype='object')"
      ]
     },
     "execution_count": 9,
     "metadata": {},
     "output_type": "execute_result"
    }
   ],
   "source": [
    "data_active.columns"
   ]
  },
  {
   "cell_type": "code",
   "execution_count": 11,
   "metadata": {},
   "outputs": [
    {
     "data": {
      "text/plain": [
       "Index(['Unnamed: 0', '사업자등록번호', '기업접두명', '기업명', '기업접미명', '기업영문명', '업종', '기업규모',\n",
       "       '공기업구분', '개인법인구분', '본점지점구분', '국외투자법인여부', '벤처기업여부', '상장코드', '산업코드차수',\n",
       "       '산업코드1', '산업코드2', 'IND_CD3', '공공기관유형', '중견기업보호여부', '본점기업코드', '설립일자',\n",
       "       '설립구분', '상장일자', '주요사업내용', '국가명', '홈페이지URL', '대표자명', '직원수'],\n",
       "      dtype='object')"
      ]
     },
     "execution_count": 11,
     "metadata": {},
     "output_type": "execute_result"
    }
   ],
   "source": [
    "data_stop.columns"
   ]
  },
  {
   "cell_type": "code",
   "execution_count": 13,
   "metadata": {},
   "outputs": [
    {
     "data": {
      "text/html": [
       "<div>\n",
       "<style scoped>\n",
       "    .dataframe tbody tr th:only-of-type {\n",
       "        vertical-align: middle;\n",
       "    }\n",
       "\n",
       "    .dataframe tbody tr th {\n",
       "        vertical-align: top;\n",
       "    }\n",
       "\n",
       "    .dataframe thead th {\n",
       "        text-align: right;\n",
       "    }\n",
       "</style>\n",
       "<table border=\"1\" class=\"dataframe\">\n",
       "  <thead>\n",
       "    <tr style=\"text-align: right;\">\n",
       "      <th></th>\n",
       "      <th>Unnamed: 0</th>\n",
       "      <th>사업자등록번호</th>\n",
       "      <th>기업접두명</th>\n",
       "      <th>기업명</th>\n",
       "      <th>기업접미명</th>\n",
       "      <th>기업영문명</th>\n",
       "      <th>업종</th>\n",
       "      <th>기업규모</th>\n",
       "      <th>공기업구분</th>\n",
       "      <th>개인법인구분</th>\n",
       "      <th>...</th>\n",
       "      <th>중견기업보호여부</th>\n",
       "      <th>본점기업코드</th>\n",
       "      <th>설립일자</th>\n",
       "      <th>설립구분</th>\n",
       "      <th>상장일자</th>\n",
       "      <th>주요사업내용</th>\n",
       "      <th>국가명</th>\n",
       "      <th>홈페이지URL</th>\n",
       "      <th>대표자명</th>\n",
       "      <th>직원수</th>\n",
       "    </tr>\n",
       "  </thead>\n",
       "  <tbody>\n",
       "    <tr>\n",
       "      <th>0</th>\n",
       "      <td>0</td>\n",
       "      <td>1138111739</td>\n",
       "      <td>NaN</td>\n",
       "      <td>한일가스산업</td>\n",
       "      <td>(주)</td>\n",
       "      <td>HANIL GAS IND. CO.,LTD.</td>\n",
       "      <td>M</td>\n",
       "      <td>2</td>\n",
       "      <td>2</td>\n",
       "      <td>1</td>\n",
       "      <td>...</td>\n",
       "      <td>N</td>\n",
       "      <td>NaN</td>\n",
       "      <td>19660419.0</td>\n",
       "      <td>1</td>\n",
       "      <td>NaN</td>\n",
       "      <td>LP Gas 충전 및 판매업</td>\n",
       "      <td>NaN</td>\n",
       "      <td>www.hanilgas.com</td>\n",
       "      <td>홍순철외 1명</td>\n",
       "      <td>43.0</td>\n",
       "    </tr>\n",
       "    <tr>\n",
       "      <th>1</th>\n",
       "      <td>1</td>\n",
       "      <td>2078132193</td>\n",
       "      <td>(주)</td>\n",
       "      <td>엠피아이</td>\n",
       "      <td>NaN</td>\n",
       "      <td>EMPIALEE CO.,LTD.</td>\n",
       "      <td>M</td>\n",
       "      <td>2</td>\n",
       "      <td>2</td>\n",
       "      <td>1</td>\n",
       "      <td>...</td>\n",
       "      <td>N</td>\n",
       "      <td>NaN</td>\n",
       "      <td>19910806.0</td>\n",
       "      <td>1</td>\n",
       "      <td>NaN</td>\n",
       "      <td>가죽 및 대용가죽제품 제조업</td>\n",
       "      <td>NaN</td>\n",
       "      <td>www.mastercnd.co.kr</td>\n",
       "      <td>이스테판상수외 1명</td>\n",
       "      <td>35.0</td>\n",
       "    </tr>\n",
       "    <tr>\n",
       "      <th>2</th>\n",
       "      <td>2</td>\n",
       "      <td>1318167565</td>\n",
       "      <td>NaN</td>\n",
       "      <td>도영운수</td>\n",
       "      <td>(주)</td>\n",
       "      <td>DOYOUNG TRANSPORTATION CO.,LTD.</td>\n",
       "      <td>M</td>\n",
       "      <td>2</td>\n",
       "      <td>2</td>\n",
       "      <td>1</td>\n",
       "      <td>...</td>\n",
       "      <td>N</td>\n",
       "      <td>NaN</td>\n",
       "      <td>20011030.0</td>\n",
       "      <td>1</td>\n",
       "      <td>NaN</td>\n",
       "      <td>시내버스업</td>\n",
       "      <td>NaN</td>\n",
       "      <td>transport@naver.com</td>\n",
       "      <td>김명화</td>\n",
       "      <td>149.0</td>\n",
       "    </tr>\n",
       "    <tr>\n",
       "      <th>3</th>\n",
       "      <td>3</td>\n",
       "      <td>5048128251</td>\n",
       "      <td>(주)</td>\n",
       "      <td>중원산업</td>\n",
       "      <td>NaN</td>\n",
       "      <td>JOONGWON INDUSTRIAL CO.,LTD.</td>\n",
       "      <td>M</td>\n",
       "      <td>2</td>\n",
       "      <td>2</td>\n",
       "      <td>1</td>\n",
       "      <td>...</td>\n",
       "      <td>N</td>\n",
       "      <td>NaN</td>\n",
       "      <td>19990112.0</td>\n",
       "      <td>1</td>\n",
       "      <td>NaN</td>\n",
       "      <td>자동차 부품 제조</td>\n",
       "      <td>NaN</td>\n",
       "      <td>www.koreajw.com</td>\n",
       "      <td>김명구</td>\n",
       "      <td>75.0</td>\n",
       "    </tr>\n",
       "    <tr>\n",
       "      <th>4</th>\n",
       "      <td>4</td>\n",
       "      <td>1098164260</td>\n",
       "      <td>(주)</td>\n",
       "      <td>카타나골프</td>\n",
       "      <td>NaN</td>\n",
       "      <td>CATANA GOLF CO.,LTD.</td>\n",
       "      <td>M</td>\n",
       "      <td>2</td>\n",
       "      <td>2</td>\n",
       "      <td>1</td>\n",
       "      <td>...</td>\n",
       "      <td>N</td>\n",
       "      <td>NaN</td>\n",
       "      <td>20000531.0</td>\n",
       "      <td>1</td>\n",
       "      <td>NaN</td>\n",
       "      <td>골프용품 전반의 제조 및 수출업</td>\n",
       "      <td>NaN</td>\n",
       "      <td>NaN</td>\n",
       "      <td>김홍득</td>\n",
       "      <td>3.0</td>\n",
       "    </tr>\n",
       "  </tbody>\n",
       "</table>\n",
       "<p>5 rows × 29 columns</p>\n",
       "</div>"
      ],
      "text/plain": [
       "   Unnamed: 0     사업자등록번호 기업접두명     기업명 기업접미명  \\\n",
       "0           0  1138111739   NaN  한일가스산업   (주)   \n",
       "1           1  2078132193   (주)    엠피아이   NaN   \n",
       "2           2  1318167565   NaN    도영운수   (주)   \n",
       "3           3  5048128251   (주)    중원산업   NaN   \n",
       "4           4  1098164260   (주)   카타나골프   NaN   \n",
       "\n",
       "                             기업영문명 업종  기업규모  공기업구분  개인법인구분  ...  중견기업보호여부  \\\n",
       "0          HANIL GAS IND. CO.,LTD.  M     2      2       1  ...         N   \n",
       "1                EMPIALEE CO.,LTD.  M     2      2       1  ...         N   \n",
       "2  DOYOUNG TRANSPORTATION CO.,LTD.  M     2      2       1  ...         N   \n",
       "3     JOONGWON INDUSTRIAL CO.,LTD.  M     2      2       1  ...         N   \n",
       "4             CATANA GOLF CO.,LTD.  M     2      2       1  ...         N   \n",
       "\n",
       "  본점기업코드        설립일자 설립구분  상장일자             주요사업내용  국가명              홈페이지URL  \\\n",
       "0    NaN  19660419.0    1   NaN    LP Gas 충전 및 판매업  NaN     www.hanilgas.com   \n",
       "1    NaN  19910806.0    1   NaN    가죽 및 대용가죽제품 제조업  NaN  www.mastercnd.co.kr   \n",
       "2    NaN  20011030.0    1   NaN              시내버스업  NaN  transport@naver.com   \n",
       "3    NaN  19990112.0    1   NaN          자동차 부품 제조  NaN      www.koreajw.com   \n",
       "4    NaN  20000531.0    1   NaN  골프용품 전반의 제조 및 수출업  NaN                  NaN   \n",
       "\n",
       "         대표자명    직원수  \n",
       "0     홍순철외 1명   43.0  \n",
       "1  이스테판상수외 1명   35.0  \n",
       "2         김명화  149.0  \n",
       "3         김명구   75.0  \n",
       "4         김홍득    3.0  \n",
       "\n",
       "[5 rows x 29 columns]"
      ]
     },
     "execution_count": 13,
     "metadata": {},
     "output_type": "execute_result"
    }
   ],
   "source": [
    "data_active.head()"
   ]
  },
  {
   "cell_type": "code",
   "execution_count": null,
   "metadata": {},
   "outputs": [],
   "source": []
  }
 ],
 "metadata": {
  "kernelspec": {
   "display_name": "Python 3.9.12 ('base')",
   "language": "python",
   "name": "python3"
  },
  "language_info": {
   "codemirror_mode": {
    "name": "ipython",
    "version": 3
   },
   "file_extension": ".py",
   "mimetype": "text/x-python",
   "name": "python",
   "nbconvert_exporter": "python",
   "pygments_lexer": "ipython3",
   "version": "3.9.12"
  },
  "orig_nbformat": 4,
  "vscode": {
   "interpreter": {
    "hash": "a90aeebcf29d64a654773811cc170cb25061cb2498f10ac689db374c7bf325de"
   }
  }
 },
 "nbformat": 4,
 "nbformat_minor": 2
}
